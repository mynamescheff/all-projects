{
 "cells": [
  {
   "cell_type": "code",
   "execution_count": 1,
   "metadata": {},
   "outputs": [
    {
     "name": "stdout",
     "output_type": "stream",
     "text": [
      "True\n"
     ]
    }
   ],
   "source": [
    "#check if pytorch is installed and runs on GPU\n",
    "import torch\n",
    "print(torch.cuda.is_available())"
   ]
  },
  {
   "cell_type": "code",
   "execution_count": 2,
   "metadata": {},
   "outputs": [
    {
     "name": "stdout",
     "output_type": "stream",
     "text": [
      "No GPU devices found.\n"
     ]
    }
   ],
   "source": [
    "#check if tensorflow is installed and runs on GPU\n",
    "import tensorflow as tf\n",
    "\n",
    "gpus = tf.config.experimental.list_physical_devices('GPU')\n",
    "\n",
    "if gpus:\n",
    "    for gpu in gpus:\n",
    "        print(\"Device name:\", gpu.name)\n",
    "        print(\"Device type:\", gpu.device_type)\n",
    "else:\n",
    "    print(\"No GPU devices found.\")\n",
    "\n",
    "    # For example, use the first GPU\n",
    "if gpus:\n",
    "    tf.config.experimental.set_visible_devices(gpus[0], 'GPU')"
   ]
  },
  {
   "cell_type": "code",
   "execution_count": 3,
   "metadata": {},
   "outputs": [],
   "source": [
    "cuda_available = torch.cuda.is_available()\n"
   ]
  },
  {
   "cell_type": "code",
   "execution_count": 4,
   "metadata": {},
   "outputs": [],
   "source": [
    "if cuda_available:\n",
    "    gpu_count = torch.cuda.device_count()\n",
    "    gpu_names = [torch.cuda.get_device_name(i) for i in range(gpu_count)]\n"
   ]
  },
  {
   "cell_type": "code",
   "execution_count": 5,
   "metadata": {},
   "outputs": [
    {
     "name": "stdout",
     "output_type": "stream",
     "text": [
      "CUDA (GPU) is available.\n",
      "Number of GPUs: 1\n",
      "GPU 0: NVIDIA GeForce RTX 4080 SUPER\n"
     ]
    }
   ],
   "source": [
    "if cuda_available:\n",
    "    print(\"CUDA (GPU) is available.\")\n",
    "    print(f\"Number of GPUs: {gpu_count}\")\n",
    "    for i, name in enumerate(gpu_names):\n",
    "        print(f\"GPU {i}: {name}\")\n",
    "else:\n",
    "    print(\"CUDA (GPU) is not available.\")\n"
   ]
  },
  {
   "cell_type": "code",
   "execution_count": 6,
   "metadata": {},
   "outputs": [
    {
     "name": "stdout",
     "output_type": "stream",
     "text": [
      "Tensor on GPU: cuda:0\n"
     ]
    }
   ],
   "source": [
    "if cuda_available:\n",
    "    tensor_on_gpu = torch.tensor([1.0]).cuda()\n",
    "    print(\"Tensor on GPU:\", tensor_on_gpu.device)\n"
   ]
  },
  {
   "cell_type": "code",
   "execution_count": 8,
   "metadata": {},
   "outputs": [
    {
     "name": "stdout",
     "output_type": "stream",
     "text": [
      "CPU time: 3.6181485652923584\n",
      "GPU time: 0.6258425712585449\n",
      "Speedup: 5.78x\n"
     ]
    }
   ],
   "source": [
    "#quick benchmark of CPU vs GPU\n",
    "import time\n",
    "import numpy as np\n",
    "\n",
    "# CPU\n",
    "start_time = time.time()\n",
    "a = np.random.rand(10000, 10000)\n",
    "b = np.random.rand(10000, 10000)\n",
    "np.dot(a, b)\n",
    "end_time = time.time()\n",
    "cpu_time = end_time - start_time\n",
    "\n",
    "# GPU\n",
    "start_time = time.time()\n",
    "a = torch.rand(10000, 10000).cuda()\n",
    "b = torch.rand(10000, 10000).cuda()\n",
    "torch.matmul(a, b)\n",
    "end_time = time.time()\n",
    "gpu_time = end_time - start_time\n",
    "\n",
    "print(f\"CPU time: {cpu_time}\")\n",
    "print(f\"GPU time: {gpu_time}\")\n",
    "print(f\"Speedup: {cpu_time / gpu_time:.2f}x\")\n",
    "\n"
   ]
  }
 ],
 "metadata": {
  "kernelspec": {
   "display_name": "mondre",
   "language": "python",
   "name": "python3"
  },
  "language_info": {
   "codemirror_mode": {
    "name": "ipython",
    "version": 3
   },
   "file_extension": ".py",
   "mimetype": "text/x-python",
   "name": "python",
   "nbconvert_exporter": "python",
   "pygments_lexer": "ipython3",
   "version": "3.8.18"
  }
 },
 "nbformat": 4,
 "nbformat_minor": 2
}
