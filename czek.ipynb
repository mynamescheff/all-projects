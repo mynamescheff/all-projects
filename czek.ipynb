{
 "cells": [
  {
   "cell_type": "code",
   "execution_count": 1,
   "metadata": {},
   "outputs": [
    {
     "name": "stdout",
     "output_type": "stream",
     "text": [
      "True\n"
     ]
    }
   ],
   "source": [
    "#check if pytorch is installed and runs on GPU\n",
    "import torch\n",
    "print(torch.cuda.is_available())"
   ]
  },
  {
   "cell_type": "code",
   "execution_count": 2,
   "metadata": {},
   "outputs": [
    {
     "name": "stdout",
     "output_type": "stream",
     "text": [
      "[PhysicalDevice(name='/physical_device:GPU:0', device_type='GPU')]\n"
     ]
    }
   ],
   "source": [
    "#check if tensorflow is installed and runs on GPU\n",
    "import tensorflow as tf\n",
    "\n",
    "print(tf.config.list_physical_devices('GPU'))"
   ]
  },
  {
   "cell_type": "code",
   "execution_count": 3,
   "metadata": {},
   "outputs": [],
   "source": [
    "cuda_available = torch.cuda.is_available()\n"
   ]
  },
  {
   "cell_type": "code",
   "execution_count": 4,
   "metadata": {},
   "outputs": [],
   "source": [
    "if cuda_available:\n",
    "    gpu_count = torch.cuda.device_count()\n",
    "    gpu_names = [torch.cuda.get_device_name(i) for i in range(gpu_count)]\n"
   ]
  },
  {
   "cell_type": "code",
   "execution_count": 5,
   "metadata": {},
   "outputs": [
    {
     "name": "stdout",
     "output_type": "stream",
     "text": [
      "CUDA (GPU) is available.\n",
      "Number of GPUs: 1\n",
      "GPU 0: NVIDIA GeForce RTX 4080 SUPER\n"
     ]
    }
   ],
   "source": [
    "if cuda_available:\n",
    "    print(\"CUDA (GPU) is available.\")\n",
    "    print(f\"Number of GPUs: {gpu_count}\")\n",
    "    for i, name in enumerate(gpu_names):\n",
    "        print(f\"GPU {i}: {name}\")\n",
    "else:\n",
    "    print(\"CUDA (GPU) is not available.\")\n"
   ]
  },
  {
   "cell_type": "code",
   "execution_count": 6,
   "metadata": {},
   "outputs": [
    {
     "name": "stdout",
     "output_type": "stream",
     "text": [
      "Tensor on GPU: cuda:0\n"
     ]
    }
   ],
   "source": [
    "if cuda_available:\n",
    "    tensor_on_gpu = torch.tensor([1.0]).cuda()\n",
    "    print(\"Tensor on GPU:\", tensor_on_gpu.device)\n"
   ]
  },
  {
   "cell_type": "code",
   "execution_count": 8,
   "metadata": {},
   "outputs": [
    {
     "name": "stdout",
     "output_type": "stream",
     "text": [
      "CPU time: 3.600888967514038\n",
      "GPU time: 0.6375110149383545\n",
      "Speedup: 5.65x\n"
     ]
    }
   ],
   "source": [
    "#quick benchmark of CPU vs GPU\n",
    "import time\n",
    "import numpy as np\n",
    "\n",
    "# CPU\n",
    "start_time = time.time()\n",
    "a = np.random.rand(10000, 10000)\n",
    "b = np.random.rand(10000, 10000)\n",
    "np.dot(a, b)\n",
    "end_time = time.time()\n",
    "cpu_time = end_time - start_time\n",
    "\n",
    "# GPU\n",
    "start_time = time.time()\n",
    "a = torch.rand(10000, 10000).cuda()\n",
    "b = torch.rand(10000, 10000).cuda()\n",
    "torch.matmul(a, b)\n",
    "end_time = time.time()\n",
    "gpu_time = end_time - start_time\n",
    "\n",
    "print(f\"CPU time: {cpu_time}\")\n",
    "print(f\"GPU time: {gpu_time}\")\n",
    "print(f\"Speedup: {cpu_time / gpu_time:.2f}x\")\n",
    "\n"
   ]
  },
  {
   "cell_type": "code",
   "execution_count": 10,
   "metadata": {},
   "outputs": [
    {
     "name": "stdout",
     "output_type": "stream",
     "text": [
      "CPU time: 1.780914068222046\n",
      "GPU time: 0.5422227382659912\n"
     ]
    }
   ],
   "source": [
    "#benchmark of CPU vs GPU with PyTorch\n",
    "import time\n",
    "import torch\n",
    "\n",
    "# CPU\n",
    "start_time = time.time()\n",
    "a = torch.rand(10000, 10000)\n",
    "b = torch.rand(10000, 10000)\n",
    "torch.matmul(a, b)\n",
    "end_time = time.time()\n",
    "cpu_time = end_time - start_time\n",
    "\n",
    "# GPU\n",
    "start_time = time.time()\n",
    "a = torch.rand(10000, 10000).cuda()\n",
    "b = torch.rand(10000, 10000).cuda()\n",
    "torch.matmul(a, b)\n",
    "end_time = time.time()\n",
    "gpu_time = end_time - start_time\n",
    "\n",
    "print(f\"CPU time: {cpu_time}\")\n",
    "print(f\"GPU time: {gpu_time}\")\n"
   ]
  },
  {
   "cell_type": "code",
   "execution_count": 15,
   "metadata": {},
   "outputs": [
    {
     "name": "stdout",
     "output_type": "stream",
     "text": [
      "Benchmarking on CPU...\n",
      "Average CPU time for 10 runs: 0.006523 seconds\n",
      "\n",
      "Benchmarking on GPU...\n",
      "Average GPU time for 10 runs: 0.000100 seconds\n"
     ]
    }
   ],
   "source": [
    "import tensorflow as tf\n",
    "import time\n",
    "\n",
    "# Define a simple TensorFlow operation\n",
    "def matrix_multiplication(size):\n",
    "    A = tf.random.uniform([size, size], dtype=tf.float32)\n",
    "    B = tf.random.uniform([size, size], dtype=tf.float32)\n",
    "    return tf.matmul(A, B)\n",
    "\n",
    "# Function to benchmark on CPU\n",
    "def benchmark_cpu(size, num_runs=10):\n",
    "    with tf.device('/CPU:0'):\n",
    "        # Warm-up run\n",
    "        matrix_multiplication(size)\n",
    "        \n",
    "        # Timing runs\n",
    "        start_time = time.time()\n",
    "        for _ in range(num_runs):\n",
    "            result = matrix_multiplication(size)\n",
    "        end_time = time.time()\n",
    "        \n",
    "    avg_time = (end_time - start_time) / num_runs\n",
    "    print(f\"Average CPU time for {num_runs} runs: {avg_time:.6f} seconds\")\n",
    "\n",
    "# Function to benchmark on GPU\n",
    "def benchmark_gpu(size, num_runs=10):\n",
    "    if len(tf.config.list_physical_devices('GPU')) == 0:\n",
    "        print(\"No GPU available.\")\n",
    "        return\n",
    "    \n",
    "    with tf.device('/GPU:0'):\n",
    "        # Warm-up run\n",
    "        matrix_multiplication(size)\n",
    "        \n",
    "        # Timing runs\n",
    "        start_time = time.time()\n",
    "        for _ in range(num_runs):\n",
    "            result = matrix_multiplication(size)\n",
    "        end_time = time.time()\n",
    "        \n",
    "    avg_time = (end_time - start_time) / num_runs\n",
    "    print(f\"Average GPU time for {num_runs} runs: {avg_time:.6f} seconds\")\n",
    "\n",
    "# Set the matrix size and number of runs\n",
    "matrix_size = 1000\n",
    "num_runs = 10\n",
    "\n",
    "# Run the benchmarks\n",
    "print(\"Benchmarking on CPU...\")\n",
    "benchmark_cpu(matrix_size, num_runs)\n",
    "\n",
    "print(\"\\nBenchmarking on GPU...\")\n",
    "benchmark_gpu(matrix_size, num_runs)\n"
   ]
  }
 ],
 "metadata": {
  "kernelspec": {
   "display_name": "mondre",
   "language": "python",
   "name": "python3"
  },
  "language_info": {
   "codemirror_mode": {
    "name": "ipython",
    "version": 3
   },
   "file_extension": ".py",
   "mimetype": "text/x-python",
   "name": "python",
   "nbconvert_exporter": "python",
   "pygments_lexer": "ipython3",
   "version": "3.9.19"
  }
 },
 "nbformat": 4,
 "nbformat_minor": 2
}
