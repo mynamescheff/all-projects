{
 "cells": [
  {
   "cell_type": "code",
   "execution_count": 2,
   "metadata": {},
   "outputs": [
    {
     "name": "stdout",
     "output_type": "stream",
     "text": [
      "True\n"
     ]
    }
   ],
   "source": [
    "#check if pytorch is installed and runs on GPU\n",
    "import torch\n",
    "print(torch.cuda.is_available())"
   ]
  },
  {
   "cell_type": "code",
   "execution_count": 8,
   "metadata": {},
   "outputs": [
    {
     "name": "stdout",
     "output_type": "stream",
     "text": [
      "No GPU devices found.\n"
     ]
    }
   ],
   "source": [
    "#check if tensorflow is installed and runs on GPU\n",
    "import tensorflow as tf\n",
    "\n",
    "gpus = tf.config.experimental.list_physical_devices('GPU')\n",
    "\n",
    "if gpus:\n",
    "    for gpu in gpus:\n",
    "        print(\"Device name:\", gpu.name)\n",
    "        print(\"Device type:\", gpu.device_type)\n",
    "else:\n",
    "    print(\"No GPU devices found.\")\n",
    "\n",
    "    # For example, use the first GPU\n",
    "if gpus:\n",
    "    tf.config.experimental.set_visible_devices(gpus[0], 'GPU')"
   ]
  },
  {
   "cell_type": "code",
   "execution_count": 5,
   "metadata": {},
   "outputs": [],
   "source": [
    "cuda_available = torch.cuda.is_available()\n"
   ]
  },
  {
   "cell_type": "code",
   "execution_count": 6,
   "metadata": {},
   "outputs": [],
   "source": [
    "if cuda_available:\n",
    "    gpu_count = torch.cuda.device_count()\n",
    "    gpu_names = [torch.cuda.get_device_name(i) for i in range(gpu_count)]\n"
   ]
  },
  {
   "cell_type": "code",
   "execution_count": 7,
   "metadata": {},
   "outputs": [
    {
     "name": "stdout",
     "output_type": "stream",
     "text": [
      "CUDA (GPU) is available.\n",
      "Number of GPUs: 1\n",
      "GPU 0: NVIDIA GeForce RTX 4060 Ti\n"
     ]
    }
   ],
   "source": [
    "if cuda_available:\n",
    "    print(\"CUDA (GPU) is available.\")\n",
    "    print(f\"Number of GPUs: {gpu_count}\")\n",
    "    for i, name in enumerate(gpu_names):\n",
    "        print(f\"GPU {i}: {name}\")\n",
    "else:\n",
    "    print(\"CUDA (GPU) is not available.\")\n"
   ]
  },
  {
   "cell_type": "code",
   "execution_count": 9,
   "metadata": {},
   "outputs": [
    {
     "name": "stdout",
     "output_type": "stream",
     "text": [
      "Tensor on GPU: cuda:0\n"
     ]
    }
   ],
   "source": [
    "if cuda_available:\n",
    "    tensor_on_gpu = torch.tensor([1.0]).cuda()\n",
    "    print(\"Tensor on GPU:\", tensor_on_gpu.device)\n"
   ]
  },
  {
   "cell_type": "code",
   "execution_count": null,
   "metadata": {},
   "outputs": [],
   "source": []
  }
 ],
 "metadata": {
  "kernelspec": {
   "display_name": "mondre",
   "language": "python",
   "name": "python3"
  },
  "language_info": {
   "codemirror_mode": {
    "name": "ipython",
    "version": 3
   },
   "file_extension": ".py",
   "mimetype": "text/x-python",
   "name": "python",
   "nbconvert_exporter": "python",
   "pygments_lexer": "ipython3",
   "version": "3.8.18"
  }
 },
 "nbformat": 4,
 "nbformat_minor": 2
}
