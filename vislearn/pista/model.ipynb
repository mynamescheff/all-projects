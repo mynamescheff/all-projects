{
 "cells": [
  {
   "cell_type": "code",
   "execution_count": 1,
   "metadata": {},
   "outputs": [],
   "source": [
    "#https://www.kaggle.com/datasets/muratkokludataset/pistachio-image-dataset"
   ]
  },
  {
   "cell_type": "code",
   "execution_count": 2,
   "metadata": {},
   "outputs": [
    {
     "data": {
      "text/plain": [
       "['Kirmizi_Pistachio', 'Pistachio_Image_Dataset_Request.txt', 'Siirt_Pistachio']"
      ]
     },
     "execution_count": 2,
     "metadata": {},
     "output_type": "execute_result"
    }
   ],
   "source": [
    "#data directory\n",
    "data_dir = 'C:\\\\projects\\\\all-projects\\\\vislearn\\\\pista\\\\Pistachio_Image_Dataset\\\\Pistachio_Image_Dataset'\n",
    "#show folder names\n",
    "import os\n",
    "os.listdir(data_dir)\n"
   ]
  },
  {
   "cell_type": "code",
   "execution_count": 3,
   "metadata": {},
   "outputs": [
    {
     "name": "stdout",
     "output_type": "stream",
     "text": [
      "['kirmizi (1).jpg', 'kirmizi (10).jpg', 'kirmizi (11).jpg', 'kirmizi (12).jpg', 'kirmizi (13).jpg', 'kirmizi (14).jpg', 'kirmizi (15).jpg', 'kirmizi (16).jpg', 'kirmizi (17).jpg', 'kirmizi (18).jpg']\n"
     ]
    }
   ],
   "source": [
    "#kirmizi directory\n",
    "kirmizi_dir = \"C:\\\\projects\\\\all-projects\\\\vislearn\\\\pista\\\\Pistachio_Image_Dataset\\\\Pistachio_Image_Dataset\\\\Kirmizi_Pistachio\"\n",
    "#show all files in kirmizi directory\n",
    "kirmizi_files = os.listdir(kirmizi_dir)\n",
    "print(kirmizi_files[:10])"
   ]
  },
  {
   "cell_type": "code",
   "execution_count": 4,
   "metadata": {},
   "outputs": [
    {
     "name": "stdout",
     "output_type": "stream",
     "text": [
      "['siirt (1).jpg', 'siirt (10).jpg', 'siirt (11).jpg', 'siirt (12).jpg', 'siirt (13).jpg', 'siirt (14).jpg', 'siirt (15).jpg', 'siirt (16).jpg', 'siirt (17).jpg', 'siirt (18).jpg']\n"
     ]
    }
   ],
   "source": [
    "#siirt directory\n",
    "siirt_dir = \"C:\\\\projects\\\\all-projects\\\\vislearn\\\\pista\\\\Pistachio_Image_Dataset\\\\Pistachio_Image_Dataset\\\\Siirt_Pistachio\"\n",
    "#show all files in siirt directory\n",
    "siirt_files = os.listdir(siirt_dir)\n",
    "print(siirt_files[:10])"
   ]
  },
  {
   "cell_type": "code",
   "execution_count": 5,
   "metadata": {},
   "outputs": [
    {
     "name": "stdout",
     "output_type": "stream",
     "text": [
      "total training kirmizi images: 1232\n",
      "total training siirt images: 916\n"
     ]
    }
   ],
   "source": [
    "#print number of images in each directory\n",
    "print('total training kirmizi images:', len(os.listdir(kirmizi_dir)))\n",
    "print('total training siirt images:', len(os.listdir(siirt_dir)))\n"
   ]
  },
  {
   "cell_type": "code",
   "execution_count": 6,
   "metadata": {},
   "outputs": [
    {
     "name": "stdout",
     "output_type": "stream",
     "text": [
      "Number of images:  2148\n"
     ]
    }
   ],
   "source": [
    "#all of the images\n",
    "import glob\n",
    "images = glob.glob(\"C:\\\\projects\\\\all-projects\\\\vislearn\\\\pista\\\\Pistachio_Image_Dataset\\\\Pistachio_Image_Dataset\\\\*\\\\*.jpg\")\n",
    "#number of images\n",
    "import pandas as pd\n",
    "print(\"Number of images: \", len(images))\n",
    "\n",
    "images = pd.Series(images)"
   ]
  },
  {
   "cell_type": "code",
   "execution_count": 7,
   "metadata": {},
   "outputs": [
    {
     "data": {
      "text/html": [
       "<div>\n",
       "<style scoped>\n",
       "    .dataframe tbody tr th:only-of-type {\n",
       "        vertical-align: middle;\n",
       "    }\n",
       "\n",
       "    .dataframe tbody tr th {\n",
       "        vertical-align: top;\n",
       "    }\n",
       "\n",
       "    .dataframe thead th {\n",
       "        text-align: right;\n",
       "    }\n",
       "</style>\n",
       "<table border=\"1\" class=\"dataframe\">\n",
       "  <thead>\n",
       "    <tr style=\"text-align: right;\">\n",
       "      <th></th>\n",
       "      <th>Filename</th>\n",
       "      <th>ClassID</th>\n",
       "    </tr>\n",
       "  </thead>\n",
       "  <tbody>\n",
       "    <tr>\n",
       "      <th>0</th>\n",
       "      <td>kirmizi (1).jpg</td>\n",
       "      <td>Kirmizi_Pistachio</td>\n",
       "    </tr>\n",
       "    <tr>\n",
       "      <th>1</th>\n",
       "      <td>kirmizi (10).jpg</td>\n",
       "      <td>Kirmizi_Pistachio</td>\n",
       "    </tr>\n",
       "    <tr>\n",
       "      <th>2</th>\n",
       "      <td>kirmizi (11).jpg</td>\n",
       "      <td>Kirmizi_Pistachio</td>\n",
       "    </tr>\n",
       "    <tr>\n",
       "      <th>3</th>\n",
       "      <td>kirmizi (12).jpg</td>\n",
       "      <td>Kirmizi_Pistachio</td>\n",
       "    </tr>\n",
       "    <tr>\n",
       "      <th>4</th>\n",
       "      <td>kirmizi (13).jpg</td>\n",
       "      <td>Kirmizi_Pistachio</td>\n",
       "    </tr>\n",
       "  </tbody>\n",
       "</table>\n",
       "</div>"
      ],
      "text/plain": [
       "           Filename            ClassID\n",
       "0   kirmizi (1).jpg  Kirmizi_Pistachio\n",
       "1  kirmizi (10).jpg  Kirmizi_Pistachio\n",
       "2  kirmizi (11).jpg  Kirmizi_Pistachio\n",
       "3  kirmizi (12).jpg  Kirmizi_Pistachio\n",
       "4  kirmizi (13).jpg  Kirmizi_Pistachio"
      ]
     },
     "execution_count": 7,
     "metadata": {},
     "output_type": "execute_result"
    }
   ],
   "source": [
    "df = pd.DataFrame()\n",
    "\n",
    "#generate field with Filename\n",
    "df['Filename'] = images.map(lambda img_name: img_name.split('\\\\')[-1])\n",
    "\n",
    "#generate field with ClassID\n",
    "df['ClassID'] = images.map(lambda img_name: img_name.split('\\\\')[-2])\n",
    "\n",
    "df.head()"
   ]
  },
  {
   "cell_type": "code",
   "execution_count": 8,
   "metadata": {},
   "outputs": [
    {
     "data": {
      "text/plain": [
       "ClassID\n",
       "Kirmizi_Pistachio    1232\n",
       "Siirt_Pistachio       916\n",
       "Name: count, dtype: int64"
      ]
     },
     "execution_count": 8,
     "metadata": {},
     "output_type": "execute_result"
    }
   ],
   "source": [
    "class_id_distributionTotal = df['ClassID'].value_counts()\n",
    "class_id_distributionTotal.head(10)"
   ]
  },
  {
   "cell_type": "code",
   "execution_count": 10,
   "metadata": {},
   "outputs": [
    {
     "name": "stderr",
     "output_type": "stream",
     "text": [
      "C:\\Users\\Mihu\\AppData\\Local\\Temp\\ipykernel_22660\\2088230628.py:9: FutureWarning: \n",
      "\n",
      "Passing `palette` without assigning `hue` is deprecated and will be removed in v0.14.0. Assign the `x` variable to `hue` and set `legend=False` for the same effect.\n",
      "\n",
      "  sns.barplot(x=class_id_distributionTotal.index, y=class_id_distributionTotal.values, palette=\"viridis\")\n"
     ]
    },
    {
     "data": {
      "image/png": "[encoded data removed]",
      "text/plain": [
       "<Figure size 1200x600 with 1 Axes>"
      ]
     },
     "metadata": {},
     "output_type": "display_data"
    }
   ],
   "source": [
    "#data distribution\n",
    "import seaborn as sns\n",
    "import matplotlib.pyplot as plt\n",
    "\n",
    "# Assuming you have class_id_distributionTotal as a pandas DataFrame or Series\n",
    "\n",
    "# Create a bar plot using Seaborn\n",
    "plt.figure(figsize=(12, 6))  # Optional: Set the figure size\n",
    "sns.barplot(x=class_id_distributionTotal.index, y=class_id_distributionTotal.values, palette=\"viridis\")\n",
    "\n",
    "# Customize the plot\n",
    "plt.title('Data distribution')\n",
    "plt.xlabel(\"Class ID\")\n",
    "plt.ylabel(\"Number of images\")\n",
    "\n",
    "# Show the plot\n",
    "plt.show()"
   ]
  },
  {
   "cell_type": "code",
   "execution_count": 11,
   "metadata": {},
   "outputs": [],
   "source": [
    "#train test split\n",
    "from sklearn.model_selection import train_test_split\n",
    "\n",
    "\n",
    "train_df, test_df = train_test_split(df, test_size=0.2, random_state=42)\n"
   ]
  },
  {
   "cell_type": "code",
   "execution_count": 12,
   "metadata": {},
   "outputs": [
    {
     "data": {
      "text/plain": [
       "ClassID\n",
       "Kirmizi_Pistachio    988\n",
       "Siirt_Pistachio      730\n",
       "Name: count, dtype: int64"
      ]
     },
     "execution_count": 12,
     "metadata": {},
     "output_type": "execute_result"
    }
   ],
   "source": [
    "#train data distribution\n",
    "class_id_distributionTrain = train_df['ClassID'].value_counts()\n",
    "class_id_distributionTrain.head(10)\n"
   ]
  },
  {
   "cell_type": "code",
   "execution_count": 13,
   "metadata": {},
   "outputs": [
    {
     "data": {
      "text/plain": [
       "ClassID\n",
       "Kirmizi_Pistachio    244\n",
       "Siirt_Pistachio      186\n",
       "Name: count, dtype: int64"
      ]
     },
     "execution_count": 13,
     "metadata": {},
     "output_type": "execute_result"
    }
   ],
   "source": [
    "#test data distribution\n",
    "class_id_distributionTest = test_df['ClassID'].value_counts()\n",
    "class_id_distributionTest.head(10)\n"
   ]
  },
  {
   "cell_type": "code",
   "execution_count": 14,
   "metadata": {},
   "outputs": [
    {
     "name": "stderr",
     "output_type": "stream",
     "text": [
      "C:\\Users\\Mihu\\AppData\\Local\\Temp\\ipykernel_22660\\3667446931.py:3: FutureWarning: \n",
      "\n",
      "Passing `palette` without assigning `hue` is deprecated and will be removed in v0.14.0. Assign the `x` variable to `hue` and set `legend=False` for the same effect.\n",
      "\n",
      "  sns.barplot(x=class_id_distributionTrain.index, y=class_id_distributionTrain.values, palette=\"viridis\")\n"
     ]
    },
    {
     "data": {
      "text/plain": [
       "<Axes: xlabel='ClassID'>"
      ]
     },
     "execution_count": 14,
     "metadata": {},
     "output_type": "execute_result"
    },
    {
     "data": {
      "image/png": "[encoded data removed]",
      "text/plain": [
       "<Figure size 1200x600 with 1 Axes>"
      ]
     },
     "metadata": {},
     "output_type": "display_data"
    }
   ],
   "source": [
    "# Create a bar plot using Seaborn\n",
    "plt.figure(figsize=(12, 6))\n",
    "sns.barplot(x=class_id_distributionTrain.index, y=class_id_distributionTrain.values, palette=\"viridis\")\n"
   ]
  },
  {
   "cell_type": "code",
   "execution_count": 15,
   "metadata": {},
   "outputs": [],
   "source": [
    "#train the model using pytorch\n",
    "import torch\n",
    "import torchvision\n",
    "from torchvision import datasets, models, transforms\n",
    "import torch.nn as nn\n",
    "import torch.optim as optim\n",
    "from torch.optim import lr_scheduler\n",
    "import numpy as np\n",
    "import matplotlib.pyplot as plt\n",
    "import time\n",
    "import os\n",
    "import copy\n",
    "\n"
   ]
  },
  {
   "cell_type": "code",
   "execution_count": 16,
   "metadata": {},
   "outputs": [
    {
     "name": "stderr",
     "output_type": "stream",
     "text": [
      "c:\\Users\\Mihu\\anaconda\\envs\\mondre\\lib\\site-packages\\torchvision\\models\\_utils.py:208: UserWarning: The parameter 'pretrained' is deprecated since 0.13 and may be removed in the future, please use 'weights' instead.\n",
      "  warnings.warn(\n",
      "c:\\Users\\Mihu\\anaconda\\envs\\mondre\\lib\\site-packages\\torchvision\\models\\_utils.py:223: UserWarning: Arguments other than a weight enum or `None` for 'weights' are deprecated since 0.13 and may be removed in the future. The current behavior is equivalent to passing `weights=ResNet18_Weights.IMAGENET1K_V1`. You can also use `weights=ResNet18_Weights.DEFAULT` to get the most up-to-date weights.\n",
      "  warnings.warn(msg)\n"
     ]
    }
   ],
   "source": [
    "# Define the model architecture\n",
    "model = models.resnet18(pretrained=True)\n",
    "num_classes = len(class_id_distributionTrain)\n",
    "model.fc = nn.Linear(model.fc.in_features, num_classes)\n",
    "\n",
    "# Define the loss function and optimizer\n",
    "criterion = nn.CrossEntropyLoss()\n",
    "optimizer = optim.SGD(model.parameters(), lr=0.001, momentum=0.9)\n",
    "\n",
    "# Create data loaders for training and validation datasets\n",
    "data_transforms = {\n",
    "    'train': transforms.Compose([\n",
    "        transforms.RandomResizedCrop(224),\n",
    "        transforms.RandomHorizontalFlip(),\n",
    "        transforms.ToTensor(),\n",
    "        transforms.Normalize([0.485, 0.456, 0.406], [0.229, 0.224, 0.225])\n",
    "    ]),\n",
    "    'val': transforms.Compose([\n",
    "        transforms.Resize(256),\n",
    "        transforms.CenterCrop(224),\n",
    "        transforms.ToTensor(),\n",
    "        transforms.Normalize([0.485, 0.456, 0.406], [0.229, 0.224, 0.225])\n",
    "    ])\n",
    "}\n",
    "\n",
    "train_dataset = datasets.ImageFolder(data_dir, data_transforms['train'])\n",
    "val_dataset = datasets.ImageFolder(data_dir, data_transforms['val'])\n",
    "\n",
    "train_loader = torch.utils.data.DataLoader(train_dataset, batch_size=32, shuffle=True, num_workers=4)\n",
    "val_loader = torch.utils.data.DataLoader(val_dataset, batch_size=32, shuffle=False, num_workers=4)\n"
   ]
  },
  {
   "cell_type": "code",
   "execution_count": 20,
   "metadata": {},
   "outputs": [
    {
     "name": "stdout",
     "output_type": "stream",
     "text": [
      "Epoch 1/10\n",
      "----------\n",
      "Train Loss: 0.3666 Acc: 0.8254\n",
      "Val Loss: 0.1294 Acc: 0.9539\n",
      "Epoch 2/10\n",
      "----------\n",
      "Train Loss: 0.1383 Acc: 0.9483\n",
      "Val Loss: 0.3316 Acc: 0.8724\n",
      "Epoch 3/10\n",
      "----------\n",
      "Train Loss: 0.1118 Acc: 0.9581\n",
      "Val Loss: 0.1505 Acc: 0.9330\n",
      "Epoch 4/10\n",
      "----------\n",
      "Train Loss: 0.1365 Acc: 0.9460\n",
      "Val Loss: 0.0591 Acc: 0.9781\n",
      "Epoch 5/10\n",
      "----------\n",
      "Train Loss: 0.1106 Acc: 0.9595\n",
      "Val Loss: 0.1458 Acc: 0.9451\n",
      "Epoch 6/10\n",
      "----------\n",
      "Train Loss: 0.0756 Acc: 0.9730\n",
      "Val Loss: 0.0409 Acc: 0.9828\n",
      "Epoch 7/10\n",
      "----------\n",
      "Train Loss: 0.0807 Acc: 0.9683\n",
      "Val Loss: 0.0776 Acc: 0.9721\n",
      "Epoch 8/10\n",
      "----------\n",
      "Train Loss: 0.0954 Acc: 0.9637\n",
      "Val Loss: 0.4700 Acc: 0.8329\n",
      "Epoch 9/10\n",
      "----------\n",
      "Train Loss: 0.0943 Acc: 0.9655\n",
      "Val Loss: 0.0298 Acc: 0.9902\n",
      "Epoch 10/10\n",
      "----------\n",
      "Train Loss: 0.0918 Acc: 0.9660\n",
      "Val Loss: 0.0195 Acc: 0.9949\n"
     ]
    }
   ],
   "source": [
    "device = torch.device(\"cuda:0\" if torch.cuda.is_available() else \"cpu\")\n",
    "model = model.to(device)\n",
    "\n",
    "# Train the model for multiple epochs\n",
    "num_epochs = 10\n",
    "best_model_wts = copy.deepcopy(model.state_dict())\n",
    "best_acc = 0.0\n",
    "\n",
    "for epoch in range(num_epochs):\n",
    "    print(f'Epoch {epoch+1}/{num_epochs}')\n",
    "    print('-' * 10)\n",
    "\n",
    "    # Training phase\n",
    "    model.train()\n",
    "    running_loss = 0.0\n",
    "    running_corrects = 0\n",
    "\n",
    "    for inputs, labels in train_loader:\n",
    "        inputs = inputs.to(device)\n",
    "        labels = labels.to(device)\n",
    "\n",
    "        optimizer.zero_grad()\n",
    "\n",
    "        with torch.set_grad_enabled(True):\n",
    "            outputs = model(inputs.to(device))  # Ensure inputs are on the same device as the model\n",
    "            _, preds = torch.max(outputs, 1)\n",
    "            loss = criterion(outputs, labels)\n",
    "\n",
    "            loss.backward()\n",
    "            optimizer.step()\n",
    "\n",
    "        running_loss += loss.item() * inputs.size(0)\n",
    "        running_corrects += torch.sum(preds == labels.data)\n",
    "\n",
    "    epoch_loss = running_loss / len(train_dataset)\n",
    "    epoch_acc = running_corrects.double() / len(train_dataset)\n",
    "\n",
    "    print(f'Train Loss: {epoch_loss:.4f} Acc: {epoch_acc:.4f}')\n",
    "\n",
    "    # Validation phase\n",
    "    model.eval()\n",
    "    running_loss = 0.0\n",
    "    running_corrects = 0\n",
    "\n",
    "    for inputs, labels in val_loader:\n",
    "        inputs = inputs.to(device)\n",
    "        labels = labels.to(device)\n",
    "\n",
    "        with torch.set_grad_enabled(False):\n",
    "            outputs = model(inputs.to(device))  # Ensure inputs are on the same device as the model\n",
    "            _, preds = torch.max(outputs, 1)\n",
    "            loss = criterion(outputs, labels)\n",
    "\n",
    "        running_loss += loss.item() * inputs.size(0)\n",
    "        running_corrects += torch.sum(preds == labels.data)\n",
    "\n",
    "    epoch_loss = running_loss / len(val_dataset)\n",
    "    epoch_acc = running_corrects.double() / len(val_dataset)\n",
    "\n",
    "    print(f'Val Loss: {epoch_loss:.4f} Acc: {epoch_acc:.4f}')\n",
    "\n",
    "    # Save the best model\n",
    "    if epoch_acc > best_acc:\n",
    "        best_acc = epoch_acc\n",
    "        best_model_wts = copy.deepcopy(model.state_dict())\n"
   ]
  },
  {
   "cell_type": "code",
   "execution_count": 28,
   "metadata": {},
   "outputs": [
    {
     "data": {
      "text/plain": [
       "<All keys matched successfully>"
      ]
     },
     "execution_count": 28,
     "metadata": {},
     "output_type": "execute_result"
    }
   ],
   "source": [
    "test_loader = torch.utils.data.DataLoader(test_df, batch_size=32, shuffle=False, num_workers=4)\n",
    "# Load the best model weights\n",
    "model.load_state_dict(best_model_wts)\n"
   ]
  },
  {
   "cell_type": "code",
   "execution_count": 30,
   "metadata": {},
   "outputs": [],
   "source": [
    "#save the model\n",
    "torch.save(model.state_dict(), 'pistachio_model.pth')"
   ]
  }
 ],
 "metadata": {
  "kernelspec": {
   "display_name": "Python 3",
   "language": "python",
   "name": "python3"
  },
  "language_info": {
   "codemirror_mode": {
    "name": "ipython",
    "version": 3
   },
   "file_extension": ".py",
   "mimetype": "text/x-python",
   "name": "python",
   "nbconvert_exporter": "python",
   "pygments_lexer": "ipython3",
   "version": "3.8.18"
  }
 },
 "nbformat": 4,
 "nbformat_minor": 2
}
