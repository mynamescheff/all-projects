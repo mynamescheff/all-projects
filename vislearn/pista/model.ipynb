{
 "cells": [
  {
   "cell_type": "code",
   "execution_count": 1,
   "metadata": {},
   "outputs": [],
   "source": [
    "#https://www.kaggle.com/datasets/muratkokludataset/pistachio-image-dataset"
   ]
  },
  {
   "cell_type": "code",
   "execution_count": 2,
   "metadata": {},
   "outputs": [
    {
     "data": {
      "text/plain": [
       "['Kirmizi_Pistachio', 'Pistachio_Image_Dataset_Request.txt', 'Siirt_Pistachio']"
      ]
     },
     "execution_count": 2,
     "metadata": {},
     "output_type": "execute_result"
    }
   ],
   "source": [
    "#data directory\n",
    "data_dir = 'C:\\\\projects\\\\all-projects\\\\vislearn\\\\pista\\\\Pistachio_Image_Dataset\\\\Pistachio_Image_Dataset'\n",
    "#show folder names\n",
    "import os\n",
    "os.listdir(data_dir)\n"
   ]
  },
  {
   "cell_type": "code",
   "execution_count": 3,
   "metadata": {},
   "outputs": [
    {
     "name": "stdout",
     "output_type": "stream",
     "text": [
      "['kirmizi (1).jpg', 'kirmizi (10).jpg', 'kirmizi (11).jpg', 'kirmizi (12).jpg', 'kirmizi (13).jpg', 'kirmizi (14).jpg', 'kirmizi (15).jpg', 'kirmizi (16).jpg', 'kirmizi (17).jpg', 'kirmizi (18).jpg']\n"
     ]
    }
   ],
   "source": [
    "#kirmizi directory\n",
    "kirmizi_dir = \"C:\\\\projects\\\\all-projects\\\\vislearn\\\\pista\\\\Pistachio_Image_Dataset\\\\Pistachio_Image_Dataset\\\\Kirmizi_Pistachio\"\n",
    "#show all files in kirmizi directory\n",
    "kirmizi_files = os.listdir(kirmizi_dir)\n",
    "print(kirmizi_files[:10])"
   ]
  },
  {
   "cell_type": "code",
   "execution_count": 4,
   "metadata": {},
   "outputs": [
    {
     "name": "stdout",
     "output_type": "stream",
     "text": [
      "['siirt (1).jpg', 'siirt (10).jpg', 'siirt (11).jpg', 'siirt (12).jpg', 'siirt (13).jpg', 'siirt (14).jpg', 'siirt (15).jpg', 'siirt (16).jpg', 'siirt (17).jpg', 'siirt (18).jpg']\n"
     ]
    }
   ],
   "source": [
    "#siirt directory\n",
    "siirt_dir = \"C:\\\\projects\\\\all-projects\\\\vislearn\\\\pista\\\\Pistachio_Image_Dataset\\\\Pistachio_Image_Dataset\\\\Siirt_Pistachio\"\n",
    "#show all files in siirt directory\n",
    "siirt_files = os.listdir(siirt_dir)\n",
    "print(siirt_files[:10])"
   ]
  },
  {
   "cell_type": "code",
   "execution_count": 5,
   "metadata": {},
   "outputs": [
    {
     "name": "stdout",
     "output_type": "stream",
     "text": [
      "total training kirmizi images: 1232\n",
      "total training siirt images: 916\n"
     ]
    }
   ],
   "source": [
    "#print number of images in each directory\n",
    "print('total training kirmizi images:', len(os.listdir(kirmizi_dir)))\n",
    "print('total training siirt images:', len(os.listdir(siirt_dir)))\n"
   ]
  },
  {
   "cell_type": "code",
   "execution_count": 7,
   "metadata": {},
   "outputs": [
    {
     "name": "stdout",
     "output_type": "stream",
     "text": [
      "Number of images:  2148\n"
     ]
    }
   ],
   "source": [
    "#all of the images\n",
    "import glob\n",
    "images = glob.glob(\"C:\\\\projects\\\\all-projects\\\\vislearn\\\\pista\\\\Pistachio_Image_Dataset\\\\Pistachio_Image_Dataset\\\\*\\\\*.jpg\")\n",
    "#number of images\n",
    "import pandas as pd\n",
    "print(\"Number of images: \", len(images))\n",
    "\n",
    "images = pd.Series(images)"
   ]
  },
  {
   "cell_type": "code",
   "execution_count": 8,
   "metadata": {},
   "outputs": [
    {
     "data": {
      "text/html": [
       "<div>\n",
       "<style scoped>\n",
       "    .dataframe tbody tr th:only-of-type {\n",
       "        vertical-align: middle;\n",
       "    }\n",
       "\n",
       "    .dataframe tbody tr th {\n",
       "        vertical-align: top;\n",
       "    }\n",
       "\n",
       "    .dataframe thead th {\n",
       "        text-align: right;\n",
       "    }\n",
       "</style>\n",
       "<table border=\"1\" class=\"dataframe\">\n",
       "  <thead>\n",
       "    <tr style=\"text-align: right;\">\n",
       "      <th></th>\n",
       "      <th>Filename</th>\n",
       "      <th>ClassID</th>\n",
       "    </tr>\n",
       "  </thead>\n",
       "  <tbody>\n",
       "    <tr>\n",
       "      <th>0</th>\n",
       "      <td>kirmizi (1).jpg</td>\n",
       "      <td>Kirmizi_Pistachio</td>\n",
       "    </tr>\n",
       "    <tr>\n",
       "      <th>1</th>\n",
       "      <td>kirmizi (10).jpg</td>\n",
       "      <td>Kirmizi_Pistachio</td>\n",
       "    </tr>\n",
       "    <tr>\n",
       "      <th>2</th>\n",
       "      <td>kirmizi (11).jpg</td>\n",
       "      <td>Kirmizi_Pistachio</td>\n",
       "    </tr>\n",
       "    <tr>\n",
       "      <th>3</th>\n",
       "      <td>kirmizi (12).jpg</td>\n",
       "      <td>Kirmizi_Pistachio</td>\n",
       "    </tr>\n",
       "    <tr>\n",
       "      <th>4</th>\n",
       "      <td>kirmizi (13).jpg</td>\n",
       "      <td>Kirmizi_Pistachio</td>\n",
       "    </tr>\n",
       "  </tbody>\n",
       "</table>\n",
       "</div>"
      ],
      "text/plain": [
       "           Filename            ClassID\n",
       "0   kirmizi (1).jpg  Kirmizi_Pistachio\n",
       "1  kirmizi (10).jpg  Kirmizi_Pistachio\n",
       "2  kirmizi (11).jpg  Kirmizi_Pistachio\n",
       "3  kirmizi (12).jpg  Kirmizi_Pistachio\n",
       "4  kirmizi (13).jpg  Kirmizi_Pistachio"
      ]
     },
     "execution_count": 8,
     "metadata": {},
     "output_type": "execute_result"
    }
   ],
   "source": [
    "df = pd.DataFrame()\n",
    "\n",
    "#generate field with Filename\n",
    "df['Filename'] = images.map(lambda img_name: img_name.split('\\\\')[-1])\n",
    "\n",
    "#generate field with ClassID\n",
    "df['ClassID'] = images.map(lambda img_name: img_name.split('\\\\')[-2])\n",
    "\n",
    "df.head()"
   ]
  },
  {
   "cell_type": "code",
   "execution_count": 9,
   "metadata": {},
   "outputs": [
    {
     "data": {
      "text/plain": [
       "ClassID\n",
       "Kirmizi_Pistachio    1232\n",
       "Siirt_Pistachio       916\n",
       "Name: count, dtype: int64"
      ]
     },
     "execution_count": 9,
     "metadata": {},
     "output_type": "execute_result"
    }
   ],
   "source": [
    "class_id_distributionTotal = df['ClassID'].value_counts()\n",
    "class_id_distributionTotal.head(10)"
   ]
  },
  {
   "cell_type": "code",
   "execution_count": 10,
   "metadata": {},
   "outputs": [
    {
     "name": "stderr",
     "output_type": "stream",
     "text": [
      "C:\\Users\\Mihu\\AppData\\Local\\Temp\\ipykernel_42504\\2088230628.py:9: FutureWarning: \n",
      "\n",
      "Passing `palette` without assigning `hue` is deprecated and will be removed in v0.14.0. Assign the `x` variable to `hue` and set `legend=False` for the same effect.\n",
      "\n",
      "  sns.barplot(x=class_id_distributionTotal.index, y=class_id_distributionTotal.values, palette=\"viridis\")\n"
     ]
    },
    {
     "data": {
      "image/png": "[encoded data removed]",
      "text/plain": [
       "<Figure size 1200x600 with 1 Axes>"
      ]
     },
     "metadata": {},
     "output_type": "display_data"
    }
   ],
   "source": [
    "#data distribution\n",
    "import seaborn as sns\n",
    "import matplotlib.pyplot as plt\n",
    "\n",
    "# Assuming you have class_id_distributionTotal as a pandas DataFrame or Series\n",
    "\n",
    "# Create a bar plot using Seaborn\n",
    "plt.figure(figsize=(12, 6))  # Optional: Set the figure size\n",
    "sns.barplot(x=class_id_distributionTotal.index, y=class_id_distributionTotal.values, palette=\"viridis\")\n",
    "\n",
    "# Customize the plot\n",
    "plt.title('Data distribution')\n",
    "plt.xlabel(\"Class ID\")\n",
    "plt.ylabel(\"Number of images\")\n",
    "\n",
    "# Show the plot\n",
    "plt.show()"
   ]
  },
  {
   "cell_type": "code",
   "execution_count": 16,
   "metadata": {},
   "outputs": [
    {
     "data": {
      "text/plain": [
       "['Collecting scikit-learn',\n",
       " '  Downloading scikit_learn-1.3.2-cp38-cp38-win_amd64.whl.metadata (11 kB)',\n",
       " 'Requirement already satisfied: numpy<2.0,>=1.17.3 in c:\\\\users\\\\mihu\\\\anaconda\\\\envs\\\\mondre\\\\lib\\\\site-packages (from scikit-learn) (1.20.3)',\n",
       " 'Requirement already satisfied: scipy>=1.5.0 in c:\\\\users\\\\mihu\\\\anaconda\\\\envs\\\\mondre\\\\lib\\\\site-packages (from scikit-learn) (1.10.1)',\n",
       " 'Collecting joblib>=1.1.1 (from scikit-learn)',\n",
       " '  Downloading joblib-1.3.2-py3-none-any.whl.metadata (5.4 kB)',\n",
       " 'Collecting threadpoolctl>=2.0.0 (from scikit-learn)',\n",
       " '  Downloading threadpoolctl-3.2.0-py3-none-any.whl.metadata (10.0 kB)',\n",
       " 'Downloading scikit_learn-1.3.2-cp38-cp38-win_amd64.whl (9.3 MB)',\n",
       " '   ---------------------------------------- 0.0/9.3 MB ? eta -:--:--',\n",
       " '   ---------------------------------------- 0.0/9.3 MB 640.0 kB/s eta 0:00:15',\n",
       " '   ---------------------------------------- 0.1/9.3 MB 1.3 MB/s eta 0:00:08',\n",
       " '   - -------------------------------------- 0.3/9.3 MB 2.6 MB/s eta 0:00:04',\n",
       " '   --- ------------------------------------ 0.8/9.3 MB 4.9 MB/s eta 0:00:02',\n",
       " '   ------- -------------------------------- 1.7/9.3 MB 8.4 MB/s eta 0:00:01',\n",
       " '   --------------- ------------------------ 3.7/9.3 MB 14.6 MB/s eta 0:00:01',\n",
       " '   ----------------------------- ---------- 6.8/9.3 MB 21.7 MB/s eta 0:00:01',\n",
       " '   ---------------------------------------  9.3/9.3 MB 28.1 MB/s eta 0:00:01',\n",
       " '   ---------------------------------------- 9.3/9.3 MB 25.7 MB/s eta 0:00:00',\n",
       " 'Downloading joblib-1.3.2-py3-none-any.whl (302 kB)',\n",
       " '   ---------------------------------------- 0.0/302.2 kB ? eta -:--:--',\n",
       " '   ---------------------------------------- 302.2/302.2 kB 9.4 MB/s eta 0:00:00',\n",
       " 'Downloading threadpoolctl-3.2.0-py3-none-any.whl (15 kB)',\n",
       " 'Installing collected packages: threadpoolctl, joblib, scikit-learn',\n",
       " 'Successfully installed joblib-1.3.2 scikit-learn-1.3.2 threadpoolctl-3.2.0']"
      ]
     },
     "execution_count": 16,
     "metadata": {},
     "output_type": "execute_result"
    }
   ],
   "source": [
    "#install sklearn\n",
    "!!pip install -U scikit-learn"
   ]
  },
  {
   "cell_type": "code",
   "execution_count": 13,
   "metadata": {},
   "outputs": [
    {
     "ename": "ModuleNotFoundError",
     "evalue": "No module named 'sklearn'",
     "output_type": "error",
     "traceback": [
      "\u001b[1;31m---------------------------------------------------------------------------\u001b[0m",
      "\u001b[1;31mModuleNotFoundError\u001b[0m                       Traceback (most recent call last)",
      "Cell \u001b[1;32mIn[13], line 2\u001b[0m\n\u001b[0;32m      1\u001b[0m \u001b[38;5;66;03m#train test split\u001b[39;00m\n\u001b[1;32m----> 2\u001b[0m \u001b[38;5;28;01mfrom\u001b[39;00m \u001b[38;5;21;01msklearn\u001b[39;00m\u001b[38;5;21;01m.\u001b[39;00m\u001b[38;5;21;01mmodel_selection\u001b[39;00m \u001b[38;5;28;01mimport\u001b[39;00m train_test_split\n\u001b[0;32m      5\u001b[0m train_df, test_df \u001b[38;5;241m=\u001b[39m train_test_split(df, test_size\u001b[38;5;241m=\u001b[39m\u001b[38;5;241m0.2\u001b[39m, random_state\u001b[38;5;241m=\u001b[39m\u001b[38;5;241m42\u001b[39m)\n",
      "\u001b[1;31mModuleNotFoundError\u001b[0m: No module named 'sklearn'"
     ]
    }
   ],
   "source": [
    "#train test split\n",
    "from sklearn.model_selection import train_test_split\n",
    "\n",
    "\n",
    "train_df, test_df = train_test_split(df, test_size=0.2, random_state=42)\n"
   ]
  },
  {
   "cell_type": "code",
   "execution_count": null,
   "metadata": {},
   "outputs": [],
   "source": []
  }
 ],
 "metadata": {
  "kernelspec": {
   "display_name": "Python 3",
   "language": "python",
   "name": "python3"
  },
  "language_info": {
   "codemirror_mode": {
    "name": "ipython",
    "version": 3
   },
   "file_extension": ".py",
   "mimetype": "text/x-python",
   "name": "python",
   "nbconvert_exporter": "python",
   "pygments_lexer": "ipython3",
   "version": "3.8.18"
  }
 },
 "nbformat": 4,
 "nbformat_minor": 2
}
