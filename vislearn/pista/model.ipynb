{
 "cells": [
  {
   "cell_type": "code",
   "execution_count": 1,
   "metadata": {},
   "outputs": [],
   "source": [
    "#https://www.kaggle.com/datasets/muratkokludataset/pistachio-image-dataset"
   ]
  },
  {
   "cell_type": "code",
   "execution_count": 2,
   "metadata": {},
   "outputs": [
    {
     "name": "stdout",
     "output_type": "stream",
     "text": [
      "c:\\projects\\all-projects\\vislearn\\pista\n",
      "c:\\python\\python312.zip\n",
      "c:\\python\\DLLs\n",
      "c:\\python\\Lib\n",
      "c:\\python\n",
      "\n",
      "C:\\Users\\Mihu\\AppData\\Roaming\\Python\\Python312\\site-packages\n",
      "C:\\Users\\Mihu\\AppData\\Roaming\\Python\\Python312\\site-packages\\win32\n",
      "C:\\Users\\Mihu\\AppData\\Roaming\\Python\\Python312\\site-packages\\win32\\lib\n",
      "C:\\Users\\Mihu\\AppData\\Roaming\\Python\\Python312\\site-packages\\Pythonwin\n",
      "c:\\python\\Lib\\site-packages\n"
     ]
    }
   ],
   "source": [
    "#get data directory\n"
   ]
  },
  {
   "cell_type": "code",
   "execution_count": null,
   "metadata": {},
   "outputs": [],
   "source": []
  }
 ],
 "metadata": {
  "kernelspec": {
   "display_name": "Python 3",
   "language": "python",
   "name": "python3"
  },
  "language_info": {
   "codemirror_mode": {
    "name": "ipython",
    "version": 3
   },
   "file_extension": ".py",
   "mimetype": "text/x-python",
   "name": "python",
   "nbconvert_exporter": "python",
   "pygments_lexer": "ipython3",
   "version": "3.12.1"
  }
 },
 "nbformat": 4,
 "nbformat_minor": 2
}
